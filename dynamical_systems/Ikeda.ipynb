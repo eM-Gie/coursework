{
 "cells": [
  {
   "cell_type": "code",
   "execution_count": 7,
   "id": "f141213c",
   "metadata": {},
   "outputs": [],
   "source": [
    "from PIL import Image\n",
    "import numpy as np\n",
    "import imageio"
   ]
  },
  {
   "cell_type": "code",
   "execution_count": 8,
   "id": "400f022c",
   "metadata": {},
   "outputs": [],
   "source": [
    "def f(x,y,u):\n",
    "#     function specified in task\n",
    "    t = 0.4-6/(x**2 + y**2 + 1)\n",
    "    new_x = 1 + u*( x*np.cos(t) - y*np.sin(t) )\n",
    "    new_y = u * ( x*np.sin(t) + y*np.cos(t) )\n",
    "    return new_x,new_y"
   ]
  },
  {
   "cell_type": "code",
   "execution_count": 9,
   "id": "e9de5b1b",
   "metadata": {},
   "outputs": [],
   "source": [
    "def create_bitmap_u(u):\n",
    "    \n",
    "    # setting initial values\n",
    "    n = 100 # size of bitmap\n",
    "    x0,y0= 0.,0. #starting points\n",
    "    N = n**2 * 100 #dlugosc trajektorii\n",
    "    counts = np.zeros((n,n))\n",
    "    \n",
    "    # for a set u\n",
    "    # run the function N times starting at xo\n",
    "    # count how many times each point is visited.    \n",
    "    for a in range(N):\n",
    "        i = int(np.floor((x0+1.5)*n/4)) # calculating the \"bin\" the point shoud be in\n",
    "        j = int(np.floor((y0+1.5)*n/5))\n",
    "        counts[i,j] += 1 \n",
    "        x0,y0 = f(x0,y0,u)\n",
    "\n",
    "\n",
    "    # scaling the counts table to [0,255], inverting colors\n",
    "    counts = 255 - counts * 255 / counts.max()\n",
    "\n",
    "    # create image, set colors accordingly\n",
    "    img = Image.new('L',(n,n))\n",
    "    pixels = img.load()\n",
    "    for i in range(n):    # For every pixel:\n",
    "        for j in range(n):\n",
    "            pixels[i,j] = int(counts[i,j]) # Set the colour accordingly\n",
    "\n",
    "    img.save('images/img{0}_.JPEG'.format(u))\n",
    "    print('finished: ',u)\n"
   ]
  },
  {
   "cell_type": "code",
   "execution_count": 10,
   "id": "7d1d6d6f",
   "metadata": {},
   "outputs": [
    {
     "name": "stdout",
     "output_type": "stream",
     "text": [
      "finished:  0.6\n",
      "finished:  0.61\n",
      "finished:  0.62\n",
      "finished:  0.63\n",
      "finished:  0.64\n",
      "finished:  0.65\n",
      "finished:  0.66\n",
      "finished:  0.67\n",
      "finished:  0.68\n",
      "finished:  0.6900000000000001\n",
      "finished:  0.7000000000000001\n",
      "finished:  0.7100000000000001\n",
      "finished:  0.7200000000000001\n",
      "finished:  0.7300000000000001\n",
      "finished:  0.7400000000000001\n",
      "finished:  0.7500000000000001\n",
      "finished:  0.7600000000000001\n",
      "finished:  0.7700000000000001\n",
      "finished:  0.7800000000000001\n",
      "finished:  0.7900000000000001\n",
      "finished:  0.8000000000000002\n",
      "finished:  0.8100000000000002\n",
      "finished:  0.8200000000000002\n",
      "finished:  0.8300000000000002\n",
      "finished:  0.8400000000000002\n",
      "finished:  0.8500000000000002\n",
      "finished:  0.8600000000000002\n",
      "finished:  0.8700000000000002\n",
      "finished:  0.8800000000000002\n",
      "finished:  0.8900000000000002\n",
      "finished:  0.9000000000000002\n"
     ]
    }
   ],
   "source": [
    "for u in np.arange(start = 0.6, stop =0.9, step = 0.01):\n",
    "    create_bitmap_u(u)"
   ]
  },
  {
   "cell_type": "code",
   "execution_count": 11,
   "id": "c6ecc9df",
   "metadata": {},
   "outputs": [
    {
     "name": "stderr",
     "output_type": "stream",
     "text": [
      "/var/folders/zy/jl2rn8kj7cx0g35_dvq0zksh0000gn/T/ipykernel_11359/3471408177.py:4: DeprecationWarning: Starting with ImageIO v3 the behavior of this function will switch to that of iio.v3.imread. To keep the current behavior (and make this warning dissapear) use `import imageio.v2 as imageio` or call `imageio.v2.imread` directly.\n",
      "  images.append(imageio.imread(filename))\n"
     ]
    }
   ],
   "source": [
    "filenames = ['images/img{0}_.JPEG'.format(u) for u in  np.arange(start = 0.6, stop =0.9, step = 0.01)]\n",
    "images = []\n",
    "for filename in filenames:\n",
    "    images.append(imageio.imread(filename))\n",
    "imageio.mimsave('movie.gif', images)"
   ]
  },
  {
   "cell_type": "code",
   "execution_count": null,
   "id": "001934cb",
   "metadata": {},
   "outputs": [],
   "source": []
  }
 ],
 "metadata": {
  "kernelspec": {
   "display_name": "Python 3 (ipykernel)",
   "language": "python",
   "name": "python3"
  },
  "language_info": {
   "codemirror_mode": {
    "name": "ipython",
    "version": 3
   },
   "file_extension": ".py",
   "mimetype": "text/x-python",
   "name": "python",
   "nbconvert_exporter": "python",
   "pygments_lexer": "ipython3",
   "version": "3.9.13"
  }
 },
 "nbformat": 4,
 "nbformat_minor": 5
}
